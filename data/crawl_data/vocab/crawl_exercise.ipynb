{
 "cells": [
  {
   "cell_type": "code",
   "execution_count": 8,
   "id": "77dc9af2",
   "metadata": {},
   "outputs": [
    {
     "name": "stdout",
     "output_type": "stream",
     "text": [
      "Collecting openpyxl\n",
      "  Downloading openpyxl-3.1.5-py2.py3-none-any.whl (250 kB)\n",
      "Collecting et-xmlfile\n",
      "  Downloading et_xmlfile-2.0.0-py3-none-any.whl (18 kB)\n",
      "Installing collected packages: et-xmlfile, openpyxl\n",
      "Successfully installed et-xmlfile-2.0.0 openpyxl-3.1.5\n"
     ]
    },
    {
     "name": "stderr",
     "output_type": "stream",
     "text": [
      "WARNING: You are using pip version 21.2.3; however, version 25.0.1 is available.\n",
      "You should consider upgrading via the 'D:\\New folder\\venv\\Scripts\\python.exe -m pip install --upgrade pip' command.\n"
     ]
    }
   ],
   "source": [
    "!pip install openpyxl"
   ]
  },
  {
   "cell_type": "code",
   "execution_count": 9,
   "id": "951dc3b1",
   "metadata": {},
   "outputs": [],
   "source": [
    "import re\n",
    "import pandas as pd\n",
    "import requests\n",
    "from bs4 import BeautifulSoup\n",
    "import json\n",
    "import openpyxl\n"
   ]
  },
  {
   "cell_type": "code",
   "execution_count": 2,
   "id": "84b911be",
   "metadata": {},
   "outputs": [],
   "source": [
    "url = 'https://langmaster.edu.vn/200-bai-tap-cac-thi-trong-tieng-anh-co-dap-an'\n",
    "headers = {\n",
    "    'User-Agent': 'Mozilla/5.0 (Windows NT 10.0; Win64; x64)'\n",
    "}\n",
    "\n",
    "\n",
    "response = requests.get(url, headers=headers)\n",
    "soup = BeautifulSoup(response.text, 'html.parser')"
   ]
  },
  {
   "cell_type": "code",
   "execution_count": 4,
   "id": "3ca5b6cd",
   "metadata": {},
   "outputs": [],
   "source": [
    "# lưu file soup vào file html\n",
    "with open('soup.html', 'w', encoding='utf-8') as file:\n",
    "    file.write(str(soup))\n",
    "\n"
   ]
  },
  {
   "cell_type": "code",
   "execution_count": null,
   "id": "04998c1e",
   "metadata": {},
   "outputs": [],
   "source": [
    "tense=[]"
   ]
  },
  {
   "cell_type": "code",
   "execution_count": null,
   "id": "51d018c1",
   "metadata": {},
   "outputs": [
    {
     "name": "stdout",
     "output_type": "stream",
     "text": [
      "1. Thì hiện tại đơn\n",
      "2. Thì hiện tại tiếp diễn\n",
      "3. Thì hiện tại hoàn thành\n",
      "4. Thì hiện tại hoàn thành tiếp diễn\n",
      "5. Thì quá khứ đơn\n",
      "6. Thì quá khứ tiếp diễn\n",
      "7. Thì quá khứ hoàn thành\n",
      "8. Thì quá khứ hoàn thành tiếp diễn\n",
      "9. Thì tương lai đơn\n",
      "10. Thì tương lai tiếp diễn\n",
      "11. Thì tương lai hoàn thành\n",
      "12. Thì tương lai hoàn thành tiếp diễn\n"
     ]
    }
   ],
   "source": [
    "\n",
    "content = soup.find(class_=\"content\")\n",
    "if not content:\n",
    "    content = soup\n",
    "\n",
    "# Iterate over all elements in the content\n",
    "for i in content.find_all('h2'):\n",
    "    if hasattr(i, 'text'):\n",
    "        print(i.text)\n"
   ]
  },
  {
   "cell_type": "code",
   "execution_count": null,
   "id": "91aaa645",
   "metadata": {},
   "outputs": [
    {
     "data": {
      "text/plain": [
       "'bai_tap_cac_thi_tieng_anh.csv'"
      ]
     },
     "execution_count": 11,
     "metadata": {},
     "output_type": "execute_result"
    }
   ],
   "source": [
    "\n",
    "# content = soup.find(id=\"main-content\")\n",
    "# if not content:\n",
    "#     content = soup\n",
    "\n",
    "# # Lấy toàn bộ text dạng danh sách các đoạn\n",
    "# texts = [tag.get_text(strip=True) for tag in content.find_all([\"h2\", \"h3\", \"h4\", \"p\", \"li\", \"b\", \"strong\"]) if tag.get_text(strip=True)]\n",
    "\n",
    "# # Khởi tạo các biến\n",
    "# all_exercises = []\n",
    "# current_tense = None\n",
    "# current_ex_type = None\n",
    "# questions = []\n",
    "# answers = []\n",
    "# mode = None  # None, \"question\", \"answer\"\n",
    "\n",
    "# for text in texts:\n",
    "#     # Nếu là tên thì\n",
    "#     if re.match(r\"^\\d+\\.\\s+Thì\", text, re.IGNORECASE):\n",
    "#         if questions:\n",
    "#             all_exercises.append({\n",
    "#                 \"Tense\": current_tense,\n",
    "#                 \"Exercise Type\": current_ex_type,\n",
    "#                 \"Questions\": \"\\n\".join(questions),\n",
    "#                 \"Answers\": \"\\n\".join(answers)\n",
    "#             })\n",
    "#             questions = []\n",
    "#             answers = []\n",
    "#         current_tense = text\n",
    "#         current_ex_type = \"\"\n",
    "#         mode = None\n",
    "#     # Nếu là tên bài tập\n",
    "#     elif re.match(r\"^(Bài tập\\s*\\d*|Bài tập)\", text, re.IGNORECASE):\n",
    "#         if questions:\n",
    "#             all_exercises.append({\n",
    "#                 \"Tense\": current_tense,\n",
    "#                 \"Exercise Type\": current_ex_type,\n",
    "#                 \"Questions\": \"\\n\".join(questions),\n",
    "#                 \"Answers\": \"\\n\".join(answers)\n",
    "#             })\n",
    "#             questions = []\n",
    "#             answers = []\n",
    "#         current_ex_type = text\n",
    "#         mode = \"question\"\n",
    "#     # Nếu là tiêu đề \"Đáp án\"\n",
    "#     elif \"Đáp án\" in text or text.strip().lower() == \"đáp án\":\n",
    "#         mode = \"answer\"\n",
    "#     # Nội dung câu hỏi hoặc đáp án\n",
    "#     else:\n",
    "#         if mode == \"question\":\n",
    "#             questions.append(text)\n",
    "#         elif mode == \"answer\":\n",
    "#             answers.append(text)\n",
    "\n",
    "# # Đừng quên thêm bài tập cuối cùng nếu có\n",
    "# if questions:\n",
    "#     all_exercises.append({\n",
    "#         \"Tense\": current_tense,\n",
    "#         \"Exercise Type\": current_ex_type,\n",
    "#         \"Questions\": \"\\n\".join(questions),\n",
    "#         \"Answers\": \"\\n\".join(answers)\n",
    "#     })\n",
    "\n",
    "# # Convert ra DataFrame và lưu file\n",
    "# final_df = pd.DataFrame(all_exercises)\n",
    "# output_path = \"bai_tap_cac_thi_tieng_anh.csv\"\n",
    "# final_df.to_csv(output_path, index=False)\n",
    "\n",
    "# output_path  # Xuất ra file Excel để người dùng tải về\n",
    "\n"
   ]
  },
  {
   "cell_type": "code",
   "execution_count": 12,
   "id": "13c6f5d4",
   "metadata": {},
   "outputs": [
    {
     "data": {
      "text/html": [
       "<div>\n",
       "<style scoped>\n",
       "    .dataframe tbody tr th:only-of-type {\n",
       "        vertical-align: middle;\n",
       "    }\n",
       "\n",
       "    .dataframe tbody tr th {\n",
       "        vertical-align: top;\n",
       "    }\n",
       "\n",
       "    .dataframe thead th {\n",
       "        text-align: right;\n",
       "    }\n",
       "</style>\n",
       "<table border=\"1\" class=\"dataframe\">\n",
       "  <thead>\n",
       "    <tr style=\"text-align: right;\">\n",
       "      <th></th>\n",
       "      <th>Tense</th>\n",
       "      <th>Exercise Type</th>\n",
       "      <th>Questions</th>\n",
       "      <th>Answers</th>\n",
       "    </tr>\n",
       "  </thead>\n",
       "  <tbody>\n",
       "    <tr>\n",
       "      <th>0</th>\n",
       "      <td>NaN</td>\n",
       "      <td>bài tập các thì trong tiếng Anh</td>\n",
       "      <td>1.Thì hiện tại đơn\\n1.\\nThì hiện tại đơn\\n1.1 ...</td>\n",
       "      <td>NaN</td>\n",
       "    </tr>\n",
       "    <tr>\n",
       "      <th>1</th>\n",
       "      <td>NaN</td>\n",
       "      <td>Bài tập 1.Chia dạng đúng của các từ trong ngoặ...</td>\n",
       "      <td>1. She often ______delicious meals. (make)\\n2....</td>\n",
       "      <td>1. makes\\n2. does not eat/ doesn't eat\\n3. do\\...</td>\n",
       "    </tr>\n",
       "    <tr>\n",
       "      <th>2</th>\n",
       "      <td>NaN</td>\n",
       "      <td>Bài tập 2.</td>\n",
       "      <td>1. He doesn’t plays chess in the afternoon.\\n2...</td>\n",
       "      <td>1. plays → play\\n2. don’t → doesn’t\\n3. doesn’...</td>\n",
       "    </tr>\n",
       "    <tr>\n",
       "      <th>3</th>\n",
       "      <td>NaN</td>\n",
       "      <td>Bài tập 1: Hoàn thành các câu sau sử dụng thì ...</td>\n",
       "      <td>1. Her/ dad / water/ some trees/ the/ garden\\n...</td>\n",
       "      <td>1. My dad is watering some trees in the garden...</td>\n",
       "    </tr>\n",
       "    <tr>\n",
       "      <th>4</th>\n",
       "      <td>NaN</td>\n",
       "      <td>Bài tập 2: Chia dạng đúng cho các động từ tron...</td>\n",
       "      <td>1. Listen! Someone (whisper) in the next room....</td>\n",
       "      <td>1. is moving\\n2. is whispering\\n3. is sitting\\...</td>\n",
       "    </tr>\n",
       "    <tr>\n",
       "      <th>5</th>\n",
       "      <td>NaN</td>\n",
       "      <td>Bài tập 1: Chia các động từ trong ngoặc sang t...</td>\n",
       "      <td>1. There is no more ice cream. I (eat)……………. i...</td>\n",
       "      <td>1. have eaten\\n2. have made\\n3. has started\\n4...</td>\n",
       "    </tr>\n",
       "    <tr>\n",
       "      <th>6</th>\n",
       "      <td>NaN</td>\n",
       "      <td>Bài tập 2: Viết lại câu không thay đổi nghĩa (...</td>\n",
       "      <td>1) This is the first time Tim went abroad.\\n=&gt;...</td>\n",
       "      <td>1. Tim hasn’t never gone abroad before.\\n2. An...</td>\n",
       "    </tr>\n",
       "    <tr>\n",
       "      <th>7</th>\n",
       "      <td>NaN</td>\n",
       "      <td>Bài tập 1: Chia động từ trong ngoặc sang thì h...</td>\n",
       "      <td>1. My best friend _______French since Septembe...</td>\n",
       "      <td>1. has been learning\\n2. have been waiting\\n3....</td>\n",
       "    </tr>\n",
       "    <tr>\n",
       "      <th>8</th>\n",
       "      <td>NaN</td>\n",
       "      <td>Bài tập 2: Hoàn thành câu với thì hiện tại hoà...</td>\n",
       "      <td>Ví dụ: Jin finished his business degree. Then ...</td>\n",
       "      <td>1. Pony has been taking vitamins ever since sh...</td>\n",
       "    </tr>\n",
       "    <tr>\n",
       "      <th>9</th>\n",
       "      <td>NaN</td>\n",
       "      <td>Bài tập 1: Chia động từ trong ngoặc ở thì quá ...</td>\n",
       "      <td>1. Lily (eat)___________ dinner at five o’cloc...</td>\n",
       "      <td>1. ate\\n2. bought\\n3. went\\n4. saw\\n5. did - d...</td>\n",
       "    </tr>\n",
       "  </tbody>\n",
       "</table>\n",
       "</div>"
      ],
      "text/plain": [
       "   Tense                                      Exercise Type  \\\n",
       "0    NaN                    bài tập các thì trong tiếng Anh   \n",
       "1    NaN  Bài tập 1.Chia dạng đúng của các từ trong ngoặ...   \n",
       "2    NaN                                         Bài tập 2.   \n",
       "3    NaN  Bài tập 1: Hoàn thành các câu sau sử dụng thì ...   \n",
       "4    NaN  Bài tập 2: Chia dạng đúng cho các động từ tron...   \n",
       "5    NaN  Bài tập 1: Chia các động từ trong ngoặc sang t...   \n",
       "6    NaN  Bài tập 2: Viết lại câu không thay đổi nghĩa (...   \n",
       "7    NaN  Bài tập 1: Chia động từ trong ngoặc sang thì h...   \n",
       "8    NaN  Bài tập 2: Hoàn thành câu với thì hiện tại hoà...   \n",
       "9    NaN  Bài tập 1: Chia động từ trong ngoặc ở thì quá ...   \n",
       "\n",
       "                                           Questions  \\\n",
       "0  1.Thì hiện tại đơn\\n1.\\nThì hiện tại đơn\\n1.1 ...   \n",
       "1  1. She often ______delicious meals. (make)\\n2....   \n",
       "2  1. He doesn’t plays chess in the afternoon.\\n2...   \n",
       "3  1. Her/ dad / water/ some trees/ the/ garden\\n...   \n",
       "4  1. Listen! Someone (whisper) in the next room....   \n",
       "5  1. There is no more ice cream. I (eat)……………. i...   \n",
       "6  1) This is the first time Tim went abroad.\\n=>...   \n",
       "7  1. My best friend _______French since Septembe...   \n",
       "8  Ví dụ: Jin finished his business degree. Then ...   \n",
       "9  1. Lily (eat)___________ dinner at five o’cloc...   \n",
       "\n",
       "                                             Answers  \n",
       "0                                                NaN  \n",
       "1  1. makes\\n2. does not eat/ doesn't eat\\n3. do\\...  \n",
       "2  1. plays → play\\n2. don’t → doesn’t\\n3. doesn’...  \n",
       "3  1. My dad is watering some trees in the garden...  \n",
       "4  1. is moving\\n2. is whispering\\n3. is sitting\\...  \n",
       "5  1. have eaten\\n2. have made\\n3. has started\\n4...  \n",
       "6  1. Tim hasn’t never gone abroad before.\\n2. An...  \n",
       "7  1. has been learning\\n2. have been waiting\\n3....  \n",
       "8  1. Pony has been taking vitamins ever since sh...  \n",
       "9  1. ate\\n2. bought\\n3. went\\n4. saw\\n5. did - d...  "
      ]
     },
     "execution_count": 12,
     "metadata": {},
     "output_type": "execute_result"
    }
   ],
   "source": [
    "df=pd.read_csv(output_path)\n",
    "df.head(10)  # Hiển thị 10 dòng đầu tiên của DataFrame"
   ]
  },
  {
   "cell_type": "code",
   "execution_count": null,
   "id": "eacff380",
   "metadata": {},
   "outputs": [],
   "source": []
  }
 ],
 "metadata": {
  "kernelspec": {
   "display_name": "venv",
   "language": "python",
   "name": "python3"
  },
  "language_info": {
   "codemirror_mode": {
    "name": "ipython",
    "version": 3
   },
   "file_extension": ".py",
   "mimetype": "text/x-python",
   "name": "python",
   "nbconvert_exporter": "python",
   "pygments_lexer": "ipython3",
   "version": "3.10.0"
  }
 },
 "nbformat": 4,
 "nbformat_minor": 5
}
