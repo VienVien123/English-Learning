{
 "cells": [
  {
   "cell_type": "code",
   "execution_count": 2,
   "id": "db399ac9",
   "metadata": {},
   "outputs": [],
   "source": [
    "# !pip install pandas"
   ]
  },
  {
   "cell_type": "code",
   "execution_count": 3,
   "id": "d226ed8d",
   "metadata": {},
   "outputs": [],
   "source": [
    "import re\n",
    "import pandas as pd\n",
    "import requests\n",
    "from bs4 import BeautifulSoup\n",
    "import json"
   ]
  },
  {
   "cell_type": "code",
   "execution_count": 4,
   "id": "e4c2d98d",
   "metadata": {},
   "outputs": [],
   "source": [
    "url = 'https://www.tuhocielts.vn/tai-hon-3000-tu-tieng-anh-thong-dung-theo-chu-de-pdf-free/'\n",
    "headers = {\n",
    "    'User-Agent': 'Mozilla/5.0 (Windows NT 10.0; Win64; x64)'\n",
    "}\n",
    "\n",
    "\n",
    "response = requests.get(url, headers=headers)\n",
    "soup = BeautifulSoup(response.text, 'html.parser')"
   ]
  },
  {
   "cell_type": "code",
   "execution_count": null,
   "id": "d298970b",
   "metadata": {},
   "outputs": [],
   "source": []
  },
  {
   "cell_type": "code",
   "execution_count": 5,
   "id": "6897db00",
   "metadata": {},
   "outputs": [],
   "source": [
    "content_div = soup.find('div', class_='entry-content')\n",
    "text_vocab = []\n",
    "current_title = \"\""
   ]
  },
  {
   "cell_type": "code",
   "execution_count": 6,
   "id": "dcabf624",
   "metadata": {},
   "outputs": [],
   "source": [
    "\n",
    "for elem in content_div.find_all(['h3', 'p']):\n",
    "    if elem.name == 'h3':\n",
    "        raw_title = elem.get_text(strip=True)\n",
    "        # Lấy phần sau từ \"chủ đề\" (không phân biệt hoa thường)\n",
    "        match_title = re.search(r\"(chủ đề.*)\", raw_title, re.IGNORECASE)\n",
    "        current_title = match_title.group(1).strip() if match_title else raw_title\n",
    "    elif elem.name == 'p':\n",
    "        lines = elem.get_text().split('\\n')\n",
    "        for line in lines:\n",
    "            line = line.strip()\n",
    "            if not line or ':' not in line:\n",
    "                continue\n",
    "\n",
    "            match = re.match(r\"\"\"^\n",
    "                ([\\w\\-\\s]+)               # Từ tiếng Anh\n",
    "                (?:\\s*/([^/]+)/)?        # Phiên âm (tùy chọn)\n",
    "                (?:\\s*\\(([^)]+)\\))?      # Loại từ (tùy chọn)\n",
    "                \\s*:\\s*(.+)$             # Nghĩa tiếng Việt\n",
    "            \"\"\", line, re.VERBOSE)\n",
    "\n",
    "            if match:\n",
    "                word = match.group(1).strip()\n",
    "                ipa = f\"/{match.group(2).strip()}/\" if match.group(2) else \"\"\n",
    "                word_type = match.group(3).strip() if match.group(3) else \"\"\n",
    "                meaning = match.group(4).strip()\n",
    "                \n",
    "                text_vocab.append({\n",
    "                    \"topic\": current_title,\n",
    "                    \"english\": word,\n",
    "                    \"ipa\": ipa,\n",
    "                    \"type\": word_type,\n",
    "                    \"vietnamese\": meaning\n",
    "                })\n"
   ]
  },
  {
   "cell_type": "code",
   "execution_count": 7,
   "id": "2e9f909b",
   "metadata": {},
   "outputs": [],
   "source": [
    "# Ghi ra file JSON\n",
    "# with open(\"vocabulary.json\", \"w\", encoding=\"utf-8\") as f:\n",
    "#     json.dump(text_vocab, f, ensure_ascii=False, indent=4)"
   ]
  },
  {
   "cell_type": "code",
   "execution_count": 8,
   "id": "eabdc8fe",
   "metadata": {},
   "outputs": [],
   "source": [
    "pdf_vocab = pd.DataFrame(text_vocab)"
   ]
  },
  {
   "cell_type": "code",
   "execution_count": 9,
   "id": "12771a68",
   "metadata": {},
   "outputs": [
    {
     "data": {
      "text/plain": [
       "0                           chủ đề gia đình\n",
       "1                           chủ đề gia đình\n",
       "2                           chủ đề gia đình\n",
       "3                           chủ đề gia đình\n",
       "4                           chủ đề gia đình\n",
       "                       ...                 \n",
       "320    3.33. Từ vựng tiếng Anh về quê hương\n",
       "321    3.33. Từ vựng tiếng Anh về quê hương\n",
       "322    3.33. Từ vựng tiếng Anh về quê hương\n",
       "323    3.33. Từ vựng tiếng Anh về quê hương\n",
       "324    3.33. Từ vựng tiếng Anh về quê hương\n",
       "Name: topic, Length: 325, dtype: object"
      ]
     },
     "execution_count": 9,
     "metadata": {},
     "output_type": "execute_result"
    }
   ],
   "source": [
    "pdf_vocab['topic']"
   ]
  },
  {
   "cell_type": "code",
   "execution_count": 10,
   "id": "2d11b802",
   "metadata": {},
   "outputs": [],
   "source": [
    "def clean_topic_name(x):\n",
    "    # Loại số, dấu chấm, dấu phẩy và khoảng trắng ở đầu chuỗi\n",
    "    x = re.sub(r'^[\\s\\d\\.,]+', '', x)\n",
    "    # Loại dấu chấm hoặc dấu phẩy ở cuối chuỗi\n",
    "    x = re.sub(r'[\\.,]+$', '', x)\n",
    "    return x.strip()"
   ]
  },
  {
   "cell_type": "code",
   "execution_count": 11,
   "id": "6583b564",
   "metadata": {},
   "outputs": [],
   "source": [
    "pdf_vocab['topic'] = pdf_vocab['topic'].apply(clean_topic_name)"
   ]
  },
  {
   "cell_type": "code",
   "execution_count": 12,
   "id": "f4dcba2d",
   "metadata": {},
   "outputs": [
    {
     "data": {
      "text/html": [
       "<div>\n",
       "<style scoped>\n",
       "    .dataframe tbody tr th:only-of-type {\n",
       "        vertical-align: middle;\n",
       "    }\n",
       "\n",
       "    .dataframe tbody tr th {\n",
       "        vertical-align: top;\n",
       "    }\n",
       "\n",
       "    .dataframe thead th {\n",
       "        text-align: right;\n",
       "    }\n",
       "</style>\n",
       "<table border=\"1\" class=\"dataframe\">\n",
       "  <thead>\n",
       "    <tr style=\"text-align: right;\">\n",
       "      <th></th>\n",
       "      <th>topic</th>\n",
       "      <th>english</th>\n",
       "      <th>ipa</th>\n",
       "      <th>type</th>\n",
       "      <th>vietnamese</th>\n",
       "    </tr>\n",
       "  </thead>\n",
       "  <tbody>\n",
       "    <tr>\n",
       "      <th>0</th>\n",
       "      <td>chủ đề gia đình</td>\n",
       "      <td>Birth</td>\n",
       "      <td>/bɜrθ/</td>\n",
       "      <td>n</td>\n",
       "      <td>Sự sinh ra, sự chào đời</td>\n",
       "    </tr>\n",
       "    <tr>\n",
       "      <th>1</th>\n",
       "      <td>chủ đề gia đình</td>\n",
       "      <td>Brother</td>\n",
       "      <td>/ˈbrʌðər/</td>\n",
       "      <td>n</td>\n",
       "      <td>Anh/em trai</td>\n",
       "    </tr>\n",
       "    <tr>\n",
       "      <th>2</th>\n",
       "      <td>chủ đề gia đình</td>\n",
       "      <td>Brother-in-law</td>\n",
       "      <td></td>\n",
       "      <td></td>\n",
       "      <td>anh/em rể</td>\n",
       "    </tr>\n",
       "    <tr>\n",
       "      <th>3</th>\n",
       "      <td>chủ đề gia đình</td>\n",
       "      <td>Close</td>\n",
       "      <td>/kloʊs/</td>\n",
       "      <td>adj</td>\n",
       "      <td>Gần gũi, gắn bó</td>\n",
       "    </tr>\n",
       "    <tr>\n",
       "      <th>4</th>\n",
       "      <td>chủ đề gia đình</td>\n",
       "      <td>Cousin</td>\n",
       "      <td>/ˈkʌzən/</td>\n",
       "      <td>n</td>\n",
       "      <td>Anh chị em họ</td>\n",
       "    </tr>\n",
       "    <tr>\n",
       "      <th>...</th>\n",
       "      <td>...</td>\n",
       "      <td>...</td>\n",
       "      <td>...</td>\n",
       "      <td>...</td>\n",
       "      <td>...</td>\n",
       "    </tr>\n",
       "    <tr>\n",
       "      <th>320</th>\n",
       "      <td>Từ vựng tiếng Anh về quê hương</td>\n",
       "      <td>Lake</td>\n",
       "      <td>/leɪk/</td>\n",
       "      <td>n</td>\n",
       "      <td>Hồ</td>\n",
       "    </tr>\n",
       "    <tr>\n",
       "      <th>321</th>\n",
       "      <td>Từ vựng tiếng Anh về quê hương</td>\n",
       "      <td>Sea</td>\n",
       "      <td>/siː/</td>\n",
       "      <td>n</td>\n",
       "      <td>Biển</td>\n",
       "    </tr>\n",
       "    <tr>\n",
       "      <th>322</th>\n",
       "      <td>Từ vựng tiếng Anh về quê hương</td>\n",
       "      <td>Sand</td>\n",
       "      <td>/sænd/</td>\n",
       "      <td>n</td>\n",
       "      <td>Cát</td>\n",
       "    </tr>\n",
       "    <tr>\n",
       "      <th>323</th>\n",
       "      <td>Từ vựng tiếng Anh về quê hương</td>\n",
       "      <td>Valley</td>\n",
       "      <td>/ˈvæli/</td>\n",
       "      <td>n</td>\n",
       "      <td>thung lũng</td>\n",
       "    </tr>\n",
       "    <tr>\n",
       "      <th>324</th>\n",
       "      <td>Từ vựng tiếng Anh về quê hương</td>\n",
       "      <td>https</td>\n",
       "      <td></td>\n",
       "      <td></td>\n",
       "      <td>//www.tuhocielts.vn</td>\n",
       "    </tr>\n",
       "  </tbody>\n",
       "</table>\n",
       "<p>325 rows × 5 columns</p>\n",
       "</div>"
      ],
      "text/plain": [
       "                              topic         english        ipa type  \\\n",
       "0                   chủ đề gia đình           Birth     /bɜrθ/    n   \n",
       "1                   chủ đề gia đình         Brother  /ˈbrʌðər/    n   \n",
       "2                   chủ đề gia đình  Brother-in-law                   \n",
       "3                   chủ đề gia đình           Close    /kloʊs/  adj   \n",
       "4                   chủ đề gia đình          Cousin   /ˈkʌzən/    n   \n",
       "..                              ...             ...        ...  ...   \n",
       "320  Từ vựng tiếng Anh về quê hương            Lake     /leɪk/    n   \n",
       "321  Từ vựng tiếng Anh về quê hương             Sea      /siː/    n   \n",
       "322  Từ vựng tiếng Anh về quê hương            Sand     /sænd/    n   \n",
       "323  Từ vựng tiếng Anh về quê hương          Valley    /ˈvæli/    n   \n",
       "324  Từ vựng tiếng Anh về quê hương           https                   \n",
       "\n",
       "                  vietnamese  \n",
       "0    Sự sinh ra, sự chào đời  \n",
       "1                Anh/em trai  \n",
       "2                  anh/em rể  \n",
       "3            Gần gũi, gắn bó  \n",
       "4              Anh chị em họ  \n",
       "..                       ...  \n",
       "320                       Hồ  \n",
       "321                     Biển  \n",
       "322                      Cát  \n",
       "323               thung lũng  \n",
       "324      //www.tuhocielts.vn  \n",
       "\n",
       "[325 rows x 5 columns]"
      ]
     },
     "execution_count": 12,
     "metadata": {},
     "output_type": "execute_result"
    }
   ],
   "source": [
    "pdf_vocab"
   ]
  },
  {
   "cell_type": "code",
   "execution_count": 13,
   "id": "f50a1294",
   "metadata": {},
   "outputs": [],
   "source": [
    "# pdf_vocab.to_csv(\"vocabulary.csv\", index=False, encoding=\"utf-8-sig\")"
   ]
  },
  {
   "cell_type": "code",
   "execution_count": 14,
   "id": "da4ea0c0",
   "metadata": {},
   "outputs": [
    {
     "data": {
      "text/plain": [
       "topic\n",
       "Từ vựng tiếng Anh về tính cách                        12\n",
       "Từ vựng tiếng Anh chuyên ngành công nghệ thông tin    12\n",
       "chủ đề môi trường                                     11\n",
       "chủ đề gia đình                                       11\n",
       "chủ đề du lịch                                        11\n",
       "Từ vựng tiếng Anh về màu sắc                          11\n",
       "Từ vựng về trường học                                 11\n",
       "Từ vựng tiếng Anh về cảm xúc                          11\n",
       "Từ vựng tiếng Anh chuyên ngành kế toán                11\n",
       "Từ vựng tiếng Anh về nhà bếp                          11\n",
       "Từ vựng về giáng sinh                                 11\n",
       "Từ vựng tiếng Anh miêu tả người                       11\n",
       "Từ vựng về thời trang                                 11\n",
       "Từ vựng chuyên ngành marketing                        11\n",
       "Từ vựng về quần áo                                    10\n",
       "chủ đề nghề nghiệp                                    10\n",
       "Từ vựng tiếng Anh về côn trùng                        10\n",
       "Từ vựng về giao thông                                 10\n",
       "Từ vựng tiếng Anh về con vật                          10\n",
       "chủ đề đồ ăn                                          10\n",
       "Từ vựng tiếng Anh về rau củ quả                       10\n",
       "Từ vựng về các môn thể thao                           10\n",
       "Từ vựng về quốc gia                                   10\n",
       "chủ đề công việc                                      10\n",
       "Từ vựng tiếng Anh về quê hương                        10\n",
       "Từ vựng tiếng Anh chuyên ngành luật                    9\n",
       "Từ vựng về thực phẩm                                   9\n",
       "Từ vựng tiếng Anh về hoa quả                           9\n",
       "Từ vựng về bóng đá                                     9\n",
       "Từ vựng tiếng Anh về quân đội                          9\n",
       "chủ đề cửa hàng                                        8\n",
       "Từ vựng về thời tiết                                   6\n",
       "Name: count, dtype: int64"
      ]
     },
     "execution_count": 14,
     "metadata": {},
     "output_type": "execute_result"
    }
   ],
   "source": [
    "pdf_vocab['topic'].value_counts()"
   ]
  },
  {
   "cell_type": "code",
   "execution_count": null,
   "id": "ada51d20",
   "metadata": {},
   "outputs": [],
   "source": [
    "# hãy thêm cột synced và cho giá trị là true \n",
    "pdf_vocab['synced'] = True"
   ]
  },
  {
   "cell_type": "code",
   "execution_count": 16,
   "id": "4fdb9992",
   "metadata": {},
   "outputs": [
    {
     "data": {
      "text/plain": [
       "0      True\n",
       "1      True\n",
       "2      True\n",
       "3      True\n",
       "4      True\n",
       "       ... \n",
       "320    True\n",
       "321    True\n",
       "322    True\n",
       "323    True\n",
       "324    True\n",
       "Name: synced, Length: 325, dtype: bool"
      ]
     },
     "execution_count": 16,
     "metadata": {},
     "output_type": "execute_result"
    }
   ],
   "source": [
    "pdf_vocab['synced'] "
   ]
  },
  {
   "cell_type": "code",
   "execution_count": 18,
   "id": "aad46fe4",
   "metadata": {},
   "outputs": [],
   "source": [
    "pdf_vocab.to_csv(\"vocabulary.csv\", index=False, encoding=\"utf-8-sig\")"
   ]
  },
  {
   "cell_type": "code",
   "execution_count": null,
   "id": "de8de66c",
   "metadata": {},
   "outputs": [],
   "source": []
  },
  {
   "cell_type": "code",
   "execution_count": null,
   "id": "60779084",
   "metadata": {},
   "outputs": [],
   "source": []
  },
  {
   "cell_type": "code",
   "execution_count": null,
   "id": "d15543d1",
   "metadata": {},
   "outputs": [],
   "source": []
  },
  {
   "cell_type": "code",
   "execution_count": null,
   "id": "24bcd245",
   "metadata": {},
   "outputs": [],
   "source": []
  }
 ],
 "metadata": {
  "kernelspec": {
   "display_name": "venv",
   "language": "python",
   "name": "python3"
  },
  "language_info": {
   "codemirror_mode": {
    "name": "ipython",
    "version": 3
   },
   "file_extension": ".py",
   "mimetype": "text/x-python",
   "name": "python",
   "nbconvert_exporter": "python",
   "pygments_lexer": "ipython3",
   "version": "3.10.0"
  }
 },
 "nbformat": 4,
 "nbformat_minor": 5
}
