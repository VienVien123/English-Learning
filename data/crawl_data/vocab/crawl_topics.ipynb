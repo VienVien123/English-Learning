{
 "cells": [
  {
   "cell_type": "code",
   "execution_count": 16,
   "id": "db399ac9",
   "metadata": {},
   "outputs": [],
   "source": [
    "# !pip install pandas"
   ]
  },
  {
   "cell_type": "code",
   "execution_count": 17,
   "id": "d226ed8d",
   "metadata": {},
   "outputs": [],
   "source": [
    "import re\n",
    "import pandas as pd\n",
    "import requests\n",
    "from bs4 import BeautifulSoup\n",
    "import json"
   ]
  },
  {
   "cell_type": "code",
   "execution_count": null,
   "id": "e4c2d98d",
   "metadata": {},
   "outputs": [],
   "source": [
    "url = 'https://www.tuhocielts.vn/tai-hon-3000-tu-tieng-anh-thong-dung-theo-chu-de-pdf-free/'\n",
    "headers = {\n",
    "    'User-Agent': 'Mozilla/5.0 (Windows NT 10.0; Win64; x64)'\n",
    "}\n",
    "\n",
    "\n",
    "response = requests.get(url, headers=headers)\n",
    "soup = BeautifulSoup(response.text, 'html.parser')"
   ]
  },
  {
   "cell_type": "code",
   "execution_count": 19,
   "id": "6897db00",
   "metadata": {},
   "outputs": [],
   "source": [
    "content_div = soup.find('div', class_='entry-content')\n",
    "text_vocab = []\n",
    "current_title = \"\""
   ]
  },
  {
   "cell_type": "code",
   "execution_count": 20,
   "id": "dcabf624",
   "metadata": {},
   "outputs": [],
   "source": [
    "\n",
    "for elem in content_div.find_all(['h3', 'p']):\n",
    "    if elem.name == 'h3':\n",
    "        raw_title = elem.get_text(strip=True)\n",
    "        # Lấy phần sau từ \"chủ đề\" (không phân biệt hoa thường)\n",
    "        match_title = re.search(r\"(chủ đề.*)\", raw_title, re.IGNORECASE)\n",
    "        current_title = match_title.group(1).strip() if match_title else raw_title\n",
    "    elif elem.name == 'p':\n",
    "        lines = elem.get_text().split('\\n')\n",
    "        for line in lines:\n",
    "            line = line.strip()\n",
    "            if not line or ':' not in line:\n",
    "                continue\n",
    "\n",
    "            match = re.match(r\"\"\"^\n",
    "                ([\\w\\-\\s]+)               # Từ tiếng Anh\n",
    "                (?:\\s*/([^/]+)/)?        # Phiên âm (tùy chọn)\n",
    "                (?:\\s*\\(([^)]+)\\))?      # Loại từ (tùy chọn)\n",
    "                \\s*:\\s*(.+)$             # Nghĩa tiếng Việt\n",
    "            \"\"\", line, re.VERBOSE)\n",
    "\n",
    "            if match:\n",
    "                word = match.group(1).strip()\n",
    "                ipa = f\"/{match.group(2).strip()}/\" if match.group(2) else \"\"\n",
    "                word_type = match.group(3).strip() if match.group(3) else \"\"\n",
    "                meaning = match.group(4).strip()\n",
    "                \n",
    "                text_vocab.append({\n",
    "                    \"Topic\": current_title,\n",
    "                    \"English\": word,\n",
    "                    \"IPA\": ipa,\n",
    "                    \"Type\": word_type,\n",
    "                    \"Vietnamese\": meaning\n",
    "                })\n"
   ]
  },
  {
   "cell_type": "code",
   "execution_count": null,
   "id": "2e9f909b",
   "metadata": {},
   "outputs": [],
   "source": [
    "# Ghi ra file JSON\n",
    "with open(\"vocabulary.json\", \"w\", encoding=\"utf-8\") as f:\n",
    "    json.dump(text_vocab, f, ensure_ascii=False, indent=4)"
   ]
  },
  {
   "cell_type": "code",
   "execution_count": null,
   "id": "eabdc8fe",
   "metadata": {},
   "outputs": [],
   "source": []
  }
 ],
 "metadata": {
  "kernelspec": {
   "display_name": "venv",
   "language": "python",
   "name": "python3"
  },
  "language_info": {
   "codemirror_mode": {
    "name": "ipython",
    "version": 3
   },
   "file_extension": ".py",
   "mimetype": "text/x-python",
   "name": "python",
   "nbconvert_exporter": "python",
   "pygments_lexer": "ipython3",
   "version": "3.10.0"
  }
 },
 "nbformat": 4,
 "nbformat_minor": 5
}
